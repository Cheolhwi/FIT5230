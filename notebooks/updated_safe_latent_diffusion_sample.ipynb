{
 "cells": [
  {
   "cell_type": "markdown",
   "id": "44a99979",
   "metadata": {},
   "source": [
    "# Placeholder notebook\n",
    "\n",
    "Please replace with the actual Colab notebook."
   ]
  }
 ],
 "metadata": {},
 "nbformat": 4,
 "nbformat_minor": 5
}
